{
 "cells": [
  {
   "cell_type": "code",
   "execution_count": 2,
   "metadata": {},
   "outputs": [],
   "source": [
    ":opt no-lint"
   ]
  },
  {
   "cell_type": "markdown",
   "metadata": {},
   "source": [
    "# Introduction"
   ]
  },
  {
   "cell_type": "markdown",
   "metadata": {},
   "source": [
    "Haskell is a statically typed, purely functional programming language with type inference and lazy evaluation. The first version of Haskell was defined in 1990 and the definition of the Haskell language is a maintained by the Haskell Committee. Haskell is used widely in academia and (to a lesser extend) in the industry. Pandoc, a popular tool to convert between different markup formats, is written in Haskell.\n",
    "\n",
    "So why is it a neat idea to learn Haskell? There are a couple of possible answers:\n",
    "\n",
    "* A functional language expands the way you think about programming.\n",
    "* Haskell makes it easy to reason about programs.\n",
    "* Haskell is a safe language.\n",
    "* Haskell is a pure language avoiding side effects.\n",
    "\n",
    "A popular implementation is the [Glasgow Haskell Compiler](https://www.haskell.org/ghc/). It comes with a number of tools. The most important for beginners are:\n",
    "\n",
    "* `ghci` - an interactive Haskell interpreter\n",
    "* `ghc` - a Haskell compiler translating Haskell into native machine code\n",
    "* `runghc` - a program to run Haskell code as scripts\n",
    "\n",
    "A tool that can be quite helpful in particular for beginners is `hlint`. HLint suggests possible improvements to Haskell source code, often providing suggestions how to simplify code. Another package we like to use is HUnit, a framework for writing unit test cases."
   ]
  },
  {
   "cell_type": "markdown",
   "metadata": {},
   "source": [
    "## Expressions"
   ]
  },
  {
   "cell_type": "markdown",
   "metadata": {},
   "source": [
    "The easiest way to get started with Haskell is to launch `ghci` and to type expressions into the interactive Haskell interpreter. Below are some simple arithmetic expressions. Haskell so far works as a simple calculator. Note that it can do arbitrary precision integer arithmetic."
   ]
  },
  {
   "cell_type": "code",
   "execution_count": 3,
   "metadata": {},
   "outputs": [
    {
     "data": {
      "text/plain": [
       "7"
      ]
     },
     "metadata": {},
     "output_type": "display_data"
    }
   ],
   "source": [
    "2 + 5"
   ]
  },
  {
   "cell_type": "code",
   "execution_count": 4,
   "metadata": {},
   "outputs": [
    {
     "data": {
      "text/plain": [
       "17"
      ]
     },
     "metadata": {},
     "output_type": "display_data"
    }
   ],
   "source": [
    "2 + 5 * 3"
   ]
  },
  {
   "cell_type": "code",
   "execution_count": 5,
   "metadata": {},
   "outputs": [
    {
     "data": {
      "text/plain": [
       "21"
      ]
     },
     "metadata": {},
     "output_type": "display_data"
    }
   ],
   "source": [
    "(2 + 5) * 3"
   ]
  },
  {
   "cell_type": "code",
   "execution_count": 6,
   "metadata": {},
   "outputs": [
    {
     "data": {
      "text/plain": [
       "10633823966279326983230456482242756608"
      ]
     },
     "metadata": {},
     "output_type": "display_data"
    }
   ],
   "source": [
    "2^123"
   ]
  },
  {
   "cell_type": "markdown",
   "metadata": {},
   "source": [
    "Haskell is a functional language and that means that pretty much everything in Haskell are functions. Even the simple arithmetic expressions above can be seen as function calls written in *infix notation*. The `+` operator, for example, is just a syntactic shorthand refering to a function that takes two arguments and returns the sum of them. We can actually write the above expressions in a pure functional representation using *prefix notation*:"
   ]
  },
  {
   "cell_type": "code",
   "execution_count": 7,
   "metadata": {},
   "outputs": [
    {
     "data": {
      "text/plain": [
       "7"
      ]
     },
     "metadata": {},
     "output_type": "display_data"
    }
   ],
   "source": [
    "(+) 2 5"
   ]
  },
  {
   "cell_type": "code",
   "execution_count": 8,
   "metadata": {},
   "outputs": [
    {
     "data": {
      "text/plain": [
       "17"
      ]
     },
     "metadata": {},
     "output_type": "display_data"
    }
   ],
   "source": [
    "(+) 2 ((*) 5 3)"
   ]
  },
  {
   "cell_type": "code",
   "execution_count": 9,
   "metadata": {},
   "outputs": [
    {
     "data": {
      "text/plain": [
       "21"
      ]
     },
     "metadata": {},
     "output_type": "display_data"
    }
   ],
   "source": [
    "(*) ((+) 2 5) 3"
   ]
  },
  {
   "cell_type": "code",
   "execution_count": 10,
   "metadata": {},
   "outputs": [
    {
     "data": {
      "text/plain": [
       "10633823966279326983230456482242756608"
      ]
     },
     "metadata": {},
     "output_type": "display_data"
    }
   ],
   "source": [
    "(^) 2 123"
   ]
  },
  {
   "cell_type": "markdown",
   "metadata": {},
   "source": [
    "Of course, writing arithmetic expressions in prefix notation usually does not make the expressions more readable and hence nobody would do this in production code unless there is a very specific reason. At the end, the goal of almost every programming effort is to produce code that is *easy to understand* and *easy to reason about*."
   ]
  },
  {
   "cell_type": "markdown",
   "metadata": {},
   "source": [
    "Haskell is also a typed language. So far, we only used integral numbers. Lets see what happens if we devide two numbers."
   ]
  },
  {
   "cell_type": "code",
   "execution_count": 11,
   "metadata": {},
   "outputs": [
    {
     "data": {
      "text/plain": [
       "3.0"
      ]
     },
     "metadata": {},
     "output_type": "display_data"
    }
   ],
   "source": [
    "6/2"
   ]
  },
  {
   "cell_type": "markdown",
   "metadata": {},
   "source": [
    "Apparently, this returns a floating point number. If we want integer division, we have to use the `div` function. Note that in Haskell we write the function name followed by its arguments. If necessary, parenthesis are placed before the function name and after the last argument. This is different from other programming languages where parenthesis are required to enclose the arguments of a function. In C or C++, one would write `div(6, 2)` but in Haskell this is simply `div 6 2`. If parenthesis are necessary in an expression, the function call would be `(div 6 2)`."
   ]
  },
  {
   "cell_type": "code",
   "execution_count": 12,
   "metadata": {},
   "outputs": [
    {
     "data": {
      "text/plain": [
       "3"
      ]
     },
     "metadata": {},
     "output_type": "display_data"
    }
   ],
   "source": [
    "div 6 2"
   ]
  },
  {
   "cell_type": "markdown",
   "metadata": {},
   "source": [
    "Since `div` is a function that takes two arguments and produces a single result value, we can write this expression as well in infix notation by enclosing the function name in backticks."
   ]
  },
  {
   "cell_type": "code",
   "execution_count": 13,
   "metadata": {},
   "outputs": [
    {
     "data": {
      "text/plain": [
       "3"
      ]
     },
     "metadata": {},
     "output_type": "display_data"
    }
   ],
   "source": [
    "6 `div` 2"
   ]
  },
  {
   "cell_type": "markdown",
   "metadata": {},
   "source": [
    "There are predefined functions to test whether a number is `even` or `odd` and we can use the `==` operator to test whether two values are equal. In a similar way, we can compare numbers. The infix operator notation uses the operators `<` (less than), `>` (greater than), `<=` (less than or equal), `>=` (greater than or equal), and `/=` (not equal)."
   ]
  },
  {
   "cell_type": "code",
   "execution_count": 14,
   "metadata": {},
   "outputs": [
    {
     "data": {
      "text/plain": [
       "True"
      ]
     },
     "metadata": {},
     "output_type": "display_data"
    }
   ],
   "source": [
    "odd 1"
   ]
  },
  {
   "cell_type": "code",
   "execution_count": 15,
   "metadata": {},
   "outputs": [
    {
     "data": {
      "text/plain": [
       "False"
      ]
     },
     "metadata": {},
     "output_type": "display_data"
    }
   ],
   "source": [
    "even 1"
   ]
  },
  {
   "cell_type": "code",
   "execution_count": 16,
   "metadata": {},
   "outputs": [
    {
     "data": {
      "text/plain": [
       "False"
      ]
     },
     "metadata": {},
     "output_type": "display_data"
    }
   ],
   "source": [
    "1 == 2"
   ]
  },
  {
   "cell_type": "markdown",
   "metadata": {},
   "source": [
    "The results show that the comparison operators (functions) return truth values (`True` or `False`)."
   ]
  },
  {
   "cell_type": "code",
   "execution_count": 17,
   "metadata": {},
   "outputs": [],
   "source": []
  },
  {
   "cell_type": "markdown",
   "metadata": {},
   "source": [
    "## Lists"
   ]
  },
  {
   "cell_type": "markdown",
   "metadata": {},
   "source": [
    "Lists are the most fundamental data type in Haskell. A list is represented by a comma-separated sequence of elements surrounded by square brackets. All elements of a list must be of the same type, i.e., they must all be numbers or they must all be characters and so on. An empty list is represented by opening and closing square brackets with nothing inbetween."
   ]
  },
  {
   "cell_type": "code",
   "execution_count": 18,
   "metadata": {},
   "outputs": [
    {
     "data": {
      "text/plain": [
       "[]"
      ]
     },
     "metadata": {},
     "output_type": "display_data"
    }
   ],
   "source": [
    "[]"
   ]
  },
  {
   "cell_type": "code",
   "execution_count": 19,
   "metadata": {},
   "outputs": [
    {
     "data": {
      "text/plain": [
       "[0,1,2,1,3]"
      ]
     },
     "metadata": {},
     "output_type": "display_data"
    }
   ],
   "source": [
    "[0,1,2,1,3]"
   ]
  },
  {
   "cell_type": "markdown",
   "metadata": {},
   "source": [
    "Haskell supports an enumeration notation, which is a conveninent way to create longer list (and even infinite lists, as we will see later)."
   ]
  },
  {
   "cell_type": "code",
   "execution_count": 20,
   "metadata": {},
   "outputs": [
    {
     "data": {
      "text/plain": [
       "[1,2,3,4,5,6,7,8,9,10]"
      ]
     },
     "metadata": {},
     "output_type": "display_data"
    },
    {
     "data": {
      "text/plain": [
       "[0,5,10,15,20]"
      ]
     },
     "metadata": {},
     "output_type": "display_data"
    },
    {
     "data": {
      "text/plain": [
       "[10,9,8,7,6,5,4,3,2,1]"
      ]
     },
     "metadata": {},
     "output_type": "display_data"
    }
   ],
   "source": [
    "[1..10]\n",
    "[0,5..20]\n",
    "[10,9..1]"
   ]
  },
  {
   "cell_type": "markdown",
   "metadata": {},
   "source": [
    "More complicated lists can be created using *list comprehensions*. List comprehensions mimic what we know from mathematics. In mathematics, if we want to define the set of odd numbers between 1 and 10, we could write $\\{ x | x \\in \\{1,..,10\\} \\text{ and } x \\text{ is odd} \\}$. This is how this idea can be translated into Haskell:"
   ]
  },
  {
   "cell_type": "code",
   "execution_count": 21,
   "metadata": {},
   "outputs": [
    {
     "data": {
      "text/plain": [
       "[1,3,5,7,9]"
      ]
     },
     "metadata": {},
     "output_type": "display_data"
    }
   ],
   "source": [
    "[ x | x <- [1..10], odd x]"
   ]
  },
  {
   "cell_type": "markdown",
   "metadata": {},
   "source": [
    "If we want the list of squares of all odd numbers between 1 and 10, we can simply apply a function. In mathematics, we would write $\\{x^2 |x \\in \\{1,..,10\\} \\text{ and } x \\text{ is odd} \\}$. For readability, we use the infix operator notation. (As an exercise, rewrite this example in prefix notation.)"
   ]
  },
  {
   "cell_type": "code",
   "execution_count": 22,
   "metadata": {},
   "outputs": [
    {
     "data": {
      "text/plain": [
       "[1,9,25,49,81]"
      ]
     },
     "metadata": {},
     "output_type": "display_data"
    }
   ],
   "source": [
    "[x^2 | x <- [1..10], odd x]"
   ]
  },
  {
   "cell_type": "markdown",
   "metadata": {},
   "source": [
    "It is possible to create more complex list comprehensions with variables ranging over multiple lists:"
   ]
  },
  {
   "cell_type": "code",
   "execution_count": 23,
   "metadata": {},
   "outputs": [
    {
     "data": {
      "text/plain": [
       "[2,4,6]"
      ]
     },
     "metadata": {},
     "output_type": "display_data"
    }
   ],
   "source": [
    "[ x + y | x <- [1..5], y <- [1..3], x == y]"
   ]
  },
  {
   "cell_type": "markdown",
   "metadata": {},
   "source": [
    "Lists can be concatenated using the `++` operator."
   ]
  },
  {
   "cell_type": "code",
   "execution_count": 24,
   "metadata": {},
   "outputs": [
    {
     "data": {
      "text/plain": [
       "[1,2,3,4,5,6,7,8,9,10]"
      ]
     },
     "metadata": {},
     "output_type": "display_data"
    }
   ],
   "source": [
    "[1..5] ++ [6..10]"
   ]
  },
  {
   "cell_type": "markdown",
   "metadata": {},
   "source": [
    "The elements of a list have a defined order and a certain element can appear multiple times in a list. Hence, lists should not be confused with sets. Since lists maintain an order, it makes sense to talk about the first element of a list or the last element of a list. The `head` function returns the first element of a list while the `tail` function returns the list without its first element. The `last` function returns the last element of a list while the `init` function returns the list without the last element."
   ]
  },
  {
   "cell_type": "code",
   "execution_count": 25,
   "metadata": {},
   "outputs": [
    {
     "data": {
      "text/plain": [
       "1"
      ]
     },
     "metadata": {},
     "output_type": "display_data"
    }
   ],
   "source": [
    "head [1..10]"
   ]
  },
  {
   "cell_type": "code",
   "execution_count": 26,
   "metadata": {},
   "outputs": [
    {
     "data": {
      "text/plain": [
       "[2,3,4,5,6,7,8,9,10]"
      ]
     },
     "metadata": {},
     "output_type": "display_data"
    }
   ],
   "source": [
    "tail [1..10]"
   ]
  },
  {
   "cell_type": "code",
   "execution_count": 27,
   "metadata": {},
   "outputs": [
    {
     "data": {
      "text/plain": [
       "10"
      ]
     },
     "metadata": {},
     "output_type": "display_data"
    }
   ],
   "source": [
    "last [1..10]"
   ]
  },
  {
   "cell_type": "code",
   "execution_count": 28,
   "metadata": {},
   "outputs": [
    {
     "data": {
      "text/plain": [
       "[1,2,3,4,5,6,7,8,9]"
      ]
     },
     "metadata": {},
     "output_type": "display_data"
    }
   ],
   "source": [
    "init [1..10]"
   ]
  },
  {
   "cell_type": "markdown",
   "metadata": {},
   "source": [
    "The `:` operator (often called the cons operator) prepends a head element to a list. In other words, the `(:)` function takes as first argument an element and as second argument a list and it returns the list with the element prepended. Do not confuse this with the `(++)` function, which takes two lists and returns the concatenation of these two lists."
   ]
  },
  {
   "cell_type": "code",
   "execution_count": 29,
   "metadata": {},
   "outputs": [
    {
     "data": {
      "text/plain": [
       "[1,2,3,4,5,6,7,8,9,10]"
      ]
     },
     "metadata": {},
     "output_type": "display_data"
    }
   ],
   "source": [
    "head [1..10] : tail [1..10]"
   ]
  },
  {
   "cell_type": "markdown",
   "metadata": {},
   "source": [
    "Note that the `:` operator is right associative. This makes it easy to use the cons operator repeatedly to create a list."
   ]
  },
  {
   "cell_type": "code",
   "execution_count": 30,
   "metadata": {},
   "outputs": [
    {
     "data": {
      "text/plain": [
       "[1,2,3]"
      ]
     },
     "metadata": {},
     "output_type": "display_data"
    }
   ],
   "source": [
    "1 : 2 : 3 : []"
   ]
  },
  {
   "cell_type": "markdown",
   "metadata": {},
   "source": [
    "The `null` function returns `True` if a list is empty and `False` otherwise. This gives us a convenient (and fast) way to test whether a list is empty. The `length` function returns the number of elements in a list."
   ]
  },
  {
   "cell_type": "code",
   "execution_count": 31,
   "metadata": {},
   "outputs": [
    {
     "data": {
      "text/plain": [
       "False"
      ]
     },
     "metadata": {},
     "output_type": "display_data"
    }
   ],
   "source": [
    "null [1..10]"
   ]
  },
  {
   "cell_type": "code",
   "execution_count": 32,
   "metadata": {},
   "outputs": [
    {
     "data": {
      "text/plain": [
       "10"
      ]
     },
     "metadata": {},
     "output_type": "display_data"
    }
   ],
   "source": [
    "length [1..10]"
   ]
  },
  {
   "cell_type": "markdown",
   "metadata": {},
   "source": [
    "Since Haskell allows us to create infinite lists (yes it does!), it is strongly recommended to use `null` to test whether a list is empty. The evaluation of the expression `length [1..] == 0` will not terminate since the calculation of the length of an infinite list will not terminate."
   ]
  },
  {
   "cell_type": "code",
   "execution_count": 33,
   "metadata": {},
   "outputs": [
    {
     "data": {
      "text/plain": [
       "False"
      ]
     },
     "metadata": {},
     "output_type": "display_data"
    }
   ],
   "source": [
    "null [1..]"
   ]
  },
  {
   "cell_type": "code",
   "execution_count": 34,
   "metadata": {},
   "outputs": [
    {
     "data": {
      "text/plain": [
       "True"
      ]
     },
     "metadata": {},
     "output_type": "display_data"
    }
   ],
   "source": [
    "null [x | x <- [1..10], x == 2^x]"
   ]
  },
  {
   "cell_type": "markdown",
   "metadata": {},
   "source": [
    "There are more predefined useful list functions. Some frequently used functions are:\n",
    "\n",
    "- The `concat` function takes a list of lists and concatenates them\n",
    "- The `reverse` function takes a list and reverses all elements in it\n",
    "- The `take` function takes a list and a number `n` and returns the first `n` elements (or fewer if the list has less than `n` elements)\n",
    "- The `drop` function takes a list and a number `n` and returns the tail after removing the first `n` elements (or an empty list if the list has less than `n` elements)\n",
    "- The `elem` function returns `True` if a given value is in the list and `False` otherwise\n",
    "- The `map` function takes a function and list and applies the function to all elements of the list\n",
    "- The `filter` function takes a function returning either `True` or `False` and a list and returns all elements of the list for which the function applied to the list element returns `True`\n",
    "\n",
    "The last two functions as examples of higher order functions. Higher order functions take functions as arguments or return functions. Programming with higher order functions is extremely powerful and they often replace simple loops that you may know from imperative programming."
   ]
  },
  {
   "cell_type": "code",
   "execution_count": 35,
   "metadata": {},
   "outputs": [
    {
     "data": {
      "text/plain": [
       "[1,2,3,4,5,6,7,8,9,10]"
      ]
     },
     "metadata": {},
     "output_type": "display_data"
    }
   ],
   "source": [
    "concat [[1..3], [4..7],[8..10]]"
   ]
  },
  {
   "cell_type": "code",
   "execution_count": 36,
   "metadata": {},
   "outputs": [
    {
     "data": {
      "text/plain": [
       "\"dlrow olleh\""
      ]
     },
     "metadata": {},
     "output_type": "display_data"
    }
   ],
   "source": [
    "reverse \"hello world\""
   ]
  },
  {
   "cell_type": "code",
   "execution_count": 37,
   "metadata": {},
   "outputs": [
    {
     "data": {
      "text/plain": [
       "[1,2,3,4,5]"
      ]
     },
     "metadata": {},
     "output_type": "display_data"
    }
   ],
   "source": [
    "take 5 [1..10]"
   ]
  },
  {
   "cell_type": "code",
   "execution_count": 38,
   "metadata": {},
   "outputs": [
    {
     "data": {
      "text/plain": [
       "[6,7,8,9,10]"
      ]
     },
     "metadata": {},
     "output_type": "display_data"
    }
   ],
   "source": [
    "drop 5 [1..10]"
   ]
  },
  {
   "cell_type": "code",
   "execution_count": 39,
   "metadata": {},
   "outputs": [
    {
     "data": {
      "text/plain": [
       "True"
      ]
     },
     "metadata": {},
     "output_type": "display_data"
    }
   ],
   "source": [
    "elem 5 [1..10]"
   ]
  },
  {
   "cell_type": "code",
   "execution_count": 40,
   "metadata": {},
   "outputs": [
    {
     "data": {
      "text/plain": [
       "[False,True,False,True,False,True,False,True,False,True]"
      ]
     },
     "metadata": {},
     "output_type": "display_data"
    }
   ],
   "source": [
    "map even [1..10]"
   ]
  },
  {
   "cell_type": "code",
   "execution_count": 41,
   "metadata": {},
   "outputs": [
    {
     "data": {
      "text/plain": [
       "[1,3,5,7,9]"
      ]
     },
     "metadata": {},
     "output_type": "display_data"
    }
   ],
   "source": [
    "filter odd [1..10]"
   ]
  },
  {
   "cell_type": "code",
   "execution_count": 42,
   "metadata": {},
   "outputs": [
    {
     "data": {
      "text/plain": [
       "[1,2,3,4,5,6]"
      ]
     },
     "metadata": {},
     "output_type": "display_data"
    }
   ],
   "source": [
    "filter (< 7) [1..10]"
   ]
  },
  {
   "cell_type": "markdown",
   "metadata": {},
   "source": [
    "The last example shows something rather special. We want to select all numbers from the list that are less than 7. To do this, we take the operator `<` and we fix the second argument to the constant 7. This gives us a function that has only a single argument and we apply this new function too all list elements in order to produce the result. The technique applied here is called currying and rather fundamental in Haskell. Currying encourages programmers to solve generic problems and then the generic solution can be tailored easily to solve a given task at hand. In the example, we take the generic \"less than\" operator and we curry it down to the much more specific \"less than 7\" function."
   ]
  },
  {
   "cell_type": "markdown",
   "metadata": {},
   "source": [
    "We finish this section with introducing the indexing operator `!!`. The indexing operator takes two arguments, the first argument is a list and the second argument is an index number. The operator returns the element of the list at the index position. (The first element of a list has the index position 0.) An index number that is not present in the list leads to an error. Hence, seasoned Haskell programmers often try to avoid the indexing operator in order to write pure functions that have no side effects."
   ]
  },
  {
   "cell_type": "code",
   "execution_count": 43,
   "metadata": {},
   "outputs": [
    {
     "data": {
      "text/plain": [
       "10"
      ]
     },
     "metadata": {},
     "output_type": "display_data"
    }
   ],
   "source": [
    "[1..] !! 9"
   ]
  },
  {
   "cell_type": "markdown",
   "metadata": {},
   "source": [
    "## Characters and Strings"
   ]
  },
  {
   "cell_type": "markdown",
   "metadata": {},
   "source": [
    "A character value is defined by writing the character surrounded by single quotes. Hence, `'a'` represents the character a. Haskell supports unicode and hence it is no problem to write funny characters in Haskell code. (Whether doing so is a good idea is a different discussion.) Special characters like newlines are represented by escape sequences that start with a backslash. For example, the escape sequence `'\\n'` represents a newline character while the escape sequence `'\\\\'` represents the backslash character."
   ]
  },
  {
   "cell_type": "code",
   "execution_count": 44,
   "metadata": {},
   "outputs": [
    {
     "data": {
      "text/plain": [
       "'a'"
      ]
     },
     "metadata": {},
     "output_type": "display_data"
    }
   ],
   "source": [
    "'a'"
   ]
  },
  {
   "cell_type": "code",
   "execution_count": 45,
   "metadata": {},
   "outputs": [
    {
     "data": {
      "text/plain": [
       "'\\n'"
      ]
     },
     "metadata": {},
     "output_type": "display_data"
    }
   ],
   "source": [
    "'\\n'"
   ]
  },
  {
   "cell_type": "markdown",
   "metadata": {},
   "source": [
    "A string is simply a list of characters. Since string literals appear quite frequently, there is a special notation for string literals (lists of characters). A string literal is a possibly empty sequence of characters surrounded by double quotes."
   ]
  },
  {
   "cell_type": "code",
   "execution_count": 46,
   "metadata": {},
   "outputs": [
    {
     "data": {
      "text/plain": [
       "\"this is a string\""
      ]
     },
     "metadata": {},
     "output_type": "display_data"
    }
   ],
   "source": [
    "\"this is a string\""
   ]
  },
  {
   "cell_type": "markdown",
   "metadata": {},
   "source": [
    "Since a string literal defines a list of characters, we can use list functions on strings."
   ]
  },
  {
   "cell_type": "code",
   "execution_count": 47,
   "metadata": {},
   "outputs": [
    {
     "data": {
      "text/plain": [
       "16"
      ]
     },
     "metadata": {},
     "output_type": "display_data"
    }
   ],
   "source": [
    "length \"this is a string\""
   ]
  },
  {
   "cell_type": "code",
   "execution_count": 48,
   "metadata": {},
   "outputs": [
    {
     "data": {
      "text/plain": [
       "\"this is a string\""
      ]
     },
     "metadata": {},
     "output_type": "display_data"
    }
   ],
   "source": [
    "\"this \" ++ \"is \" ++ \"a \" ++ \"string\""
   ]
  },
  {
   "cell_type": "code",
   "execution_count": 49,
   "metadata": {},
   "outputs": [
    {
     "data": {
      "text/plain": [
       "True"
      ]
     },
     "metadata": {},
     "output_type": "display_data"
    }
   ],
   "source": [
    "null \"\""
   ]
  },
  {
   "cell_type": "code",
   "execution_count": 50,
   "metadata": {},
   "outputs": [
    {
     "data": {
      "text/plain": [
       "'f'"
      ]
     },
     "metadata": {},
     "output_type": "display_data"
    },
    {
     "data": {
      "text/plain": [
       "\"oo\""
      ]
     },
     "metadata": {},
     "output_type": "display_data"
    },
    {
     "data": {
      "text/plain": [
       "'o'"
      ]
     },
     "metadata": {},
     "output_type": "display_data"
    },
    {
     "data": {
      "text/plain": [
       "\"fo\""
      ]
     },
     "metadata": {},
     "output_type": "display_data"
    }
   ],
   "source": [
    "head \"foo\"\n",
    "tail \"foo\"\n",
    "last \"foo\"\n",
    "init \"foo\""
   ]
  },
  {
   "cell_type": "markdown",
   "metadata": {},
   "source": [
    "Comparison operators are defined for characters and strings. On strings, the operators do lexicographic comparison."
   ]
  },
  {
   "cell_type": "code",
   "execution_count": 51,
   "metadata": {},
   "outputs": [
    {
     "data": {
      "text/plain": [
       "True"
      ]
     },
     "metadata": {},
     "output_type": "display_data"
    },
    {
     "data": {
      "text/plain": [
       "False"
      ]
     },
     "metadata": {},
     "output_type": "display_data"
    },
    {
     "data": {
      "text/plain": [
       "True"
      ]
     },
     "metadata": {},
     "output_type": "display_data"
    },
    {
     "data": {
      "text/plain": [
       "False"
      ]
     },
     "metadata": {},
     "output_type": "display_data"
    },
    {
     "data": {
      "text/plain": [
       "False"
      ]
     },
     "metadata": {},
     "output_type": "display_data"
    }
   ],
   "source": [
    "'a' < 'b'\n",
    "'b' < 'a'\n",
    "\"aa\" < \"ab\"\n",
    "\"21\" < \"111\"\n",
    "21 < 11"
   ]
  },
  {
   "cell_type": "markdown",
   "metadata": {},
   "source": [
    "## Tuples"
   ]
  },
  {
   "cell_type": "markdown",
   "metadata": {},
   "source": [
    "Tuples are another way to pack multiple values together. Tuples are represented by the values contained in the tuple separated by comma and enclosed in parenthesis. There are some key differences between lists and tuples:\n",
    "- Tuples have a fixed number of values and they are immutable. It is not possible to add values to a tuple or to remove values from a tuple. Tuples are useful in situations where the number of elements is fixed. For example, an edge in a graph can be represented by the two nodes connected by the edge.\n",
    "- The values of a tuple can be of different types. A tuple can easily contain a number, a string, another tuple, and a list."
   ]
  },
  {
   "cell_type": "code",
   "execution_count": 52,
   "metadata": {},
   "outputs": [
    {
     "data": {
      "text/plain": [
       "(42,\"answer\",('a',\"string\"),[1,2,3,4,5,6,7,8,9,10])"
      ]
     },
     "metadata": {},
     "output_type": "display_data"
    }
   ],
   "source": [
    "(42, \"answer\", ('a', \"string\"), [1..10])"
   ]
  },
  {
   "cell_type": "markdown",
   "metadata": {},
   "source": [
    "Pairs are tuples that have two elements. For pairs, we have predefined functions that can be used to access the first (`fst`) and the second (`snd`) element of a pair."
   ]
  },
  {
   "cell_type": "code",
   "execution_count": 53,
   "metadata": {},
   "outputs": [
    {
     "data": {
      "text/plain": [
       "\"one\""
      ]
     },
     "metadata": {},
     "output_type": "display_data"
    }
   ],
   "source": [
    "fst (\"one\", 2)"
   ]
  },
  {
   "cell_type": "code",
   "execution_count": 54,
   "metadata": {},
   "outputs": [
    {
     "data": {
      "text/plain": [
       "2"
      ]
     },
     "metadata": {},
     "output_type": "display_data"
    }
   ],
   "source": [
    "snd (\"one\", 2)"
   ]
  },
  {
   "cell_type": "markdown",
   "metadata": {},
   "source": [
    "A uesful function to create lists of pairs is `zip`. The `zip` function takes two lists and returns a list of pairs: The first element of the first list is paired with the first element of the second list, the second element of the first list is paired with the second element of the second list and so on. This continues until one of the lists has been exhausted."
   ]
  },
  {
   "cell_type": "code",
   "execution_count": 55,
   "metadata": {},
   "outputs": [
    {
     "data": {
      "text/plain": [
       "[(1,\"apple\"),(2,\"peach\"),(3,\"pear\")]"
      ]
     },
     "metadata": {},
     "output_type": "display_data"
    }
   ],
   "source": [
    "zip [1..] [\"apple\", \"peach\", \"pear\"]"
   ]
  },
  {
   "cell_type": "markdown",
   "metadata": {},
   "source": [
    "Lists of tuples can also be created using list comprehensions. Lets create a list of pairs where the second element is a square of the first element and each element is in the range [1..10]."
   ]
  },
  {
   "cell_type": "code",
   "execution_count": 56,
   "metadata": {},
   "outputs": [
    {
     "data": {
      "text/plain": [
       "[(1,1),(2,4),(3,9)]"
      ]
     },
     "metadata": {},
     "output_type": "display_data"
    }
   ],
   "source": [
    "[(a,b) | a <- [1..10], b <- [1..10], b == a^2]"
   ]
  },
  {
   "cell_type": "markdown",
   "metadata": {},
   "source": [
    "## Types"
   ]
  },
  {
   "cell_type": "markdown",
   "metadata": {},
   "source": [
    "Haskell is a strongly and statically typed programming language. This means that every value has an associated type. Think of types as a set of values with defined operations on them. For example, take the set of integral numbers. It is natural to think of these numbers as a type.\n",
    "\n",
    "- *strongly typed*\n",
    "  - Haskell does not automatatically cast a value from one type into a different type\n",
    "  - By avoiding automatic type conversions, some programming error can be cached before they cause problems\n",
    "- *statically typed*\n",
    "  - types are known at compilation type by the compiler / interprefer\n",
    "  - static typing, in combination with strong typing, makes type errors impossible to occur at runtime\n",
    "- *type inference*\n",
    "  - Haskell can infer type information and hence the programmer does not have to specify types explicitely for all values (or functions)\n",
    "\n",
    "Even though Haskell can infer types, we will always specify the type signatures of functions explicitely as this is good practice and captures that intention of the programmer. Some of the core Haskell types are:\n",
    "\n",
    "- `Char`: characters (unicode)\n",
    "- `Bool`: one of the two boolean values `True` and `False`\n",
    "- `Int`: small signed integer number, usually restricted to 64 bits or 32 bits (platform specific)\n",
    "- `Integer`: integer numbers of arbitrary precision (well, bounded by the available memory)\n",
    "- `Double`: floating point numbers, usually 64-bits wide\n",
    "- `Rational`: rational numbers\n"
   ]
  },
  {
   "cell_type": "markdown",
   "metadata": {},
   "source": [
    "We can be explicit that a certain value (or expression) has a certain type. The `::` operator indicates that the value on the left side of the operator is to be understood as having the type defined on the right side of the operator."
   ]
  },
  {
   "cell_type": "code",
   "execution_count": 57,
   "metadata": {},
   "outputs": [
    {
     "data": {
      "text/plain": [
       "42.0"
      ]
     },
     "metadata": {},
     "output_type": "display_data"
    }
   ],
   "source": [
    "42 :: Double"
   ]
  },
  {
   "cell_type": "code",
   "execution_count": 58,
   "metadata": {},
   "outputs": [
    {
     "data": {
      "text/plain": [
       "5 % 4"
      ]
     },
     "metadata": {},
     "output_type": "display_data"
    }
   ],
   "source": [
    "3 / 2 - 1 / 4 :: Rational"
   ]
  },
  {
   "cell_type": "markdown",
   "metadata": {},
   "source": [
    "The last example says that we want the expression to return a rational number. The Haskell notation `5 % 4` represents the rational number commonly written as the fraction $\\frac{5}{4}$ in mathematics. While we can define the type of values and expressions, we usally do not do this and rely on Haskell's type inference to determine the type of values and expressions."
   ]
  },
  {
   "cell_type": "markdown",
   "metadata": {},
   "source": [
    "In order to get used to types, it is useful to inspect what Haskell knows about types. In `ghci` or this notebook, it is possible to enquire the runtime system about the type information of an expression. This is done by sending the `:type` command to the runtime (the command may be abbreviated to `:t` as long as there is no other runtime command that starts with a t)."
   ]
  },
  {
   "cell_type": "code",
   "execution_count": 59,
   "metadata": {},
   "outputs": [
    {
     "data": {
      "text/html": [
       "<span class='get-type'>Char</span>"
      ],
      "text/plain": [
       "Char"
      ]
     },
     "metadata": {},
     "output_type": "display_data"
    }
   ],
   "source": [
    ":type 'a'"
   ]
  },
  {
   "cell_type": "code",
   "execution_count": 60,
   "metadata": {},
   "outputs": [
    {
     "data": {
      "text/html": [
       "<span class='get-type'>[Char]</span>"
      ],
      "text/plain": [
       "[Char]"
      ]
     },
     "metadata": {},
     "output_type": "display_data"
    }
   ],
   "source": [
    ":type \"hello\""
   ]
  },
  {
   "cell_type": "code",
   "execution_count": 61,
   "metadata": {},
   "outputs": [
    {
     "data": {
      "text/html": [
       "<span class='get-type'>forall a. [a]</span>"
      ],
      "text/plain": [
       "forall a. [a]"
      ]
     },
     "metadata": {},
     "output_type": "display_data"
    }
   ],
   "source": [
    ":type []"
   ]
  },
  {
   "cell_type": "code",
   "execution_count": 62,
   "metadata": {},
   "outputs": [
    {
     "data": {
      "text/html": [
       "<span class='get-type'>forall a. [a] -> a</span>"
      ],
      "text/plain": [
       "forall a. [a] -> a"
      ]
     },
     "metadata": {},
     "output_type": "display_data"
    }
   ],
   "source": [
    ":type head"
   ]
  },
  {
   "cell_type": "code",
   "execution_count": 63,
   "metadata": {},
   "outputs": [
    {
     "data": {
      "text/html": [
       "<span class='get-type'>forall a b. (a -> b) -> [a] -> [b]</span>"
      ],
      "text/plain": [
       "forall a b. (a -> b) -> [a] -> [b]"
      ]
     },
     "metadata": {},
     "output_type": "display_data"
    }
   ],
   "source": [
    ":type map"
   ]
  },
  {
   "cell_type": "markdown",
   "metadata": {},
   "source": [
    "The last example says that map is a function that takes a function mapping from type `a` to type `b` and a list of values of type `a` and it returns a list of values of type `b`. Since `a` and `b` are not constrained, the map function can be used for arbitrary types `a` and `b`."
   ]
  },
  {
   "cell_type": "markdown",
   "metadata": {},
   "source": [
    "## Functions"
   ]
  },
  {
   "cell_type": "markdown",
   "metadata": {},
   "source": [
    "Since Haskell is a functional language, the programmer primarily defines functions. Defining a function can be very simple. Lets define a function that takes a single number and returns the square of the number, i.e., $f(x) = x^2$."
   ]
  },
  {
   "cell_type": "code",
   "execution_count": 64,
   "metadata": {},
   "outputs": [],
   "source": [
    "f x = x^2"
   ]
  },
  {
   "cell_type": "code",
   "execution_count": 65,
   "metadata": {},
   "outputs": [
    {
     "data": {
      "text/plain": [
       "16"
      ]
     },
     "metadata": {},
     "output_type": "display_data"
    }
   ],
   "source": [
    "f 4"
   ]
  },
  {
   "cell_type": "code",
   "execution_count": 66,
   "metadata": {},
   "outputs": [
    {
     "data": {
      "text/plain": [
       "625"
      ]
     },
     "metadata": {},
     "output_type": "display_data"
    }
   ],
   "source": [
    "f 25"
   ]
  },
  {
   "cell_type": "markdown",
   "metadata": {},
   "source": [
    "We can use the newly defined function to define more functions. Lets define $g(x) = f(x) -8$."
   ]
  },
  {
   "cell_type": "code",
   "execution_count": 67,
   "metadata": {},
   "outputs": [],
   "source": [
    "g x = f x - 8"
   ]
  },
  {
   "cell_type": "code",
   "execution_count": 68,
   "metadata": {},
   "outputs": [
    {
     "data": {
      "text/plain": [
       "8"
      ]
     },
     "metadata": {},
     "output_type": "display_data"
    }
   ],
   "source": [
    "g 4"
   ]
  },
  {
   "cell_type": "markdown",
   "metadata": {},
   "source": [
    "While this all works as one would expect, we never really specified that the argument of `f` must be a number. Still, if we try to invoke `f` on the character `c`, Haskell provides us with a type error. What happens here is that Haskell has inferred that the function `f` is not defined for characters, because the function definition uses an expression that is not defined for characters. The error message may not be readable yet but the point here is that this is an error that is thrown at compile time and before execution starts. This means that the programmer is required to fix the problem in the code before it can be run and do harm. "
   ]
  },
  {
   "cell_type": "code",
   "execution_count": 69,
   "metadata": {},
   "outputs": [
    {
     "data": {
      "text/html": [
       "<span class='err-msg'>No instance for (Num Char) arising from a use of `f'<br/>Possible fix: add an instance declaration for (Num Char)<br/>In the expression: f 'c'<br/>In an equation for `it': it = f 'c'</span>"
      ],
      "text/plain": [
       "No instance for (Num Char) arising from a use of `f'\n",
       "Possible fix: add an instance declaration for (Num Char)\n",
       "In the expression: f 'c'\n",
       "In an equation for `it': it = f 'c'"
      ]
     },
     "metadata": {},
     "output_type": "display_data"
    }
   ],
   "source": [
    "f 'c'"
   ]
  },
  {
   "cell_type": "markdown",
   "metadata": {},
   "source": [
    "It is good practice to not rely on Haskell's type inference for functions and to define the *type signature* of a function explicitly. This way, you also help Haskell's type inference since you declare the intended type of a function. Here is an example how you define an explicit type signature for a function."
   ]
  },
  {
   "cell_type": "code",
   "execution_count": 70,
   "metadata": {},
   "outputs": [],
   "source": [
    "f :: Integer -> Integer\n",
    "f x = x^2"
   ]
  },
  {
   "cell_type": "code",
   "execution_count": 71,
   "metadata": {},
   "outputs": [
    {
     "data": {
      "text/plain": [
       "1522756"
      ]
     },
     "metadata": {},
     "output_type": "display_data"
    }
   ],
   "source": [
    "f 1234"
   ]
  },
  {
   "cell_type": "markdown",
   "metadata": {},
   "source": [
    "The type signature of `f` now says: `f` has a type that takes a value of type `Integer` and returns a value of type `Integer`. While we have defined `f` for `Integer` numbers above, it might be useful to define `f` also for `Int` numbers or all possible numbers. We can do this easily in Haskell."
   ]
  },
  {
   "cell_type": "code",
   "execution_count": 72,
   "metadata": {},
   "outputs": [],
   "source": [
    "f :: Num a => a -> a\n",
    "f x = x^2"
   ]
  },
  {
   "cell_type": "code",
   "execution_count": 73,
   "metadata": {},
   "outputs": [
    {
     "data": {
      "text/plain": [
       "25"
      ]
     },
     "metadata": {},
     "output_type": "display_data"
    }
   ],
   "source": [
    "f 5"
   ]
  },
  {
   "cell_type": "code",
   "execution_count": 74,
   "metadata": {},
   "outputs": [
    {
     "data": {
      "text/plain": [
       "25.0"
      ]
     },
     "metadata": {},
     "output_type": "display_data"
    }
   ],
   "source": [
    "f 5.0"
   ]
  },
  {
   "cell_type": "code",
   "execution_count": 75,
   "metadata": {},
   "outputs": [
    {
     "data": {
      "text/plain": [
       "25 % 1"
      ]
     },
     "metadata": {},
     "output_type": "display_data"
    }
   ],
   "source": [
    "f (5 :: Rational)"
   ]
  },
  {
   "cell_type": "markdown",
   "metadata": {},
   "source": [
    "The type signature now says that `f` receives a value of a numeric type `a` and it returns a value of the same numeric type `a`. The `a` in the type signature is a type variable; it holds the name of a numeric type. Our new definition of `f` is a *polymorphic* function since it can be appliedd to arguments with different types. As the examples above show, the type of the argument of the function `f` determines the type of the value returned by the function: `f` is either a function receiving an integer number and returning an integer number or it is a function receiving a floating point number and returning a floating point number, or it is a function receiving a rational number and returning a rational number."
   ]
  },
  {
   "cell_type": "markdown",
   "metadata": {},
   "source": [
    "Since we now know how to define functions, we are essentially ready to start functional programming. But hey, what about all those things that are common in other programming languages like variables, conditional statements, loops? Well, you do not need them because there are functional equivalents (such as pattern matching, guards, recursion, higher order functions, monads) that provide you with a rich toolbox to implement arbitrary algorithms as functions in Haskell. If you are new to programming, you might find that learning functional programming is not very difficult. If, however, you have quite some experience with imperative programming languages, then learning Haskell may become a certain challenge since you have to learn to look at programming from a somewhat different perspective. While things may appear initially in a sense weird or difficult, you will hopefully soon start to realize the power of a functional programming style and carry it over even when you write code in an imperative programming language. Many iterative programming languages have been recently extended to better support functional programming. The recent interest in functional programming is also driven by the fact that functional programs are much easier to turn into concurrent programs than imperative programs since there is no mutable state and functions are pure, i.e., they do not cause side effects.\n",
    "\n",
    "Here are a few tips on how to think as a functional programmer:\n",
    "\n",
    "* Do not think about a program as a sequence of operations\n",
    "* Try to think about the relationship between input and output\n",
    "* Try to drive simplicity to a maximum\n",
    "* Think in terms of composition and not in terms of inheritance\n",
    "* Think about side-effects and how to separate them from the functional core of a program"
   ]
  }
 ],
 "metadata": {
  "author": "Juergen Schoenwaelder",
  "kernelspec": {
   "display_name": "Python 3",
   "language": "python",
   "name": "python3"
  },
  "language_info": {
   "codemirror_mode": {
    "name": "ipython",
    "version": 3
   },
   "file_extension": ".py",
   "mimetype": "text/x-python",
   "name": "python",
   "nbconvert_exporter": "python",
   "pygments_lexer": "ipython3",
   "version": "3.7.3"
  },
  "title": "Haskell Tutorial: Introduction"
 },
 "nbformat": 4,
 "nbformat_minor": 1
}
