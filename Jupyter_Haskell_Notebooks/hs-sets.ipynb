{
 "metadata": {
  "language": "haskell",
  "name": "",
  "signature": "sha256:bd7ae866239707983b820e0b5884c22d66519af70b241bab3494a744fde90ffd",
  "title": "Haskell Tutorial: Sets"
 },
 "nbformat": 3,
 "nbformat_minor": 0,
 "worksheets": [
  {
   "cells": [
    {
     "cell_type": "code",
     "collapsed": false,
     "input": [
      ":opt no-lint"
     ],
     "language": "python",
     "metadata": {},
     "outputs": [],
     "prompt_number": 1
    },
    {
     "cell_type": "heading",
     "level": 2,
     "metadata": {},
     "source": [
      "Ordered Sets"
     ]
    },
    {
     "cell_type": "markdown",
     "metadata": {},
     "source": [
      "Haskell has support for typed ordered sets with fast insert, delete, and lookup operations. It is highly recommended to use the set implementation instead of abusing lists to represent ordered sets. To use the set functions, you have to import `Data.Set`. It is a recommended to use a qualified import in order to handle name clashes with functions defined by the prelude. And using a qualified import may also help with readability."
     ]
    },
    {
     "cell_type": "code",
     "collapsed": false,
     "input": [
      "import qualified Data.Set as Set"
     ],
     "language": "python",
     "metadata": {},
     "outputs": [],
     "prompt_number": 3
    },
    {
     "cell_type": "markdown",
     "metadata": {},
     "source": [
      "A common way to create sets is to create them from a list. But there are also convenient ways to create an empty set or a set has a single member, called a *singleton*."
     ]
    },
    {
     "cell_type": "code",
     "collapsed": false,
     "input": [
      "s0 = Set.empty\n",
      "s1 = Set.singleton 'c'\n",
      "s2 = Set.fromList \"Hello World\"\n",
      "s3 = Set.fromList ['a'..'z']"
     ],
     "language": "python",
     "metadata": {},
     "outputs": [],
     "prompt_number": 4
    },
    {
     "cell_type": "markdown",
     "metadata": {},
     "source": [
      "The `null` function can be used to test whether a set is empty while the `size` function returns the number of elements of a set."
     ]
    },
    {
     "cell_type": "code",
     "collapsed": false,
     "input": [
      "map Set.null [s0,s1,s2,s3]\n",
      "map Set.size [s0,s1,s2,s3]"
     ],
     "language": "python",
     "metadata": {},
     "outputs": [
      {
       "metadata": {},
       "output_type": "display_data",
       "text": [
        "[True,False,False,False]"
       ]
      },
      {
       "metadata": {},
       "output_type": "display_data",
       "text": [
        "[0,1,8,26]"
       ]
      }
     ],
     "prompt_number": 5
    },
    {
     "cell_type": "markdown",
     "metadata": {},
     "source": [
      "The `toAscList` function returns the elements of a set as a list in ascending order. Similarly, `toDescList` returns the elements of a set as a list in descending order."
     ]
    },
    {
     "cell_type": "code",
     "collapsed": false,
     "input": [
      "Set.toAscList s3\n",
      "Set.toDescList s3"
     ],
     "language": "python",
     "metadata": {},
     "outputs": [
      {
       "metadata": {},
       "output_type": "display_data",
       "text": [
        "\"abcdefghijklmnopqrstuvwxyz\""
       ]
      },
      {
       "metadata": {},
       "output_type": "display_data",
       "text": [
        "\"zyxwvutsrqponmlkjihgfedcba\""
       ]
      }
     ],
     "prompt_number": 6
    },
    {
     "cell_type": "markdown",
     "metadata": {},
     "source": [
      "Set `member` function can be used to test whether a value is a member of a given list and the `isSubsetOf` function can be used to test whether the first set is a subset of the second set."
     ]
    },
    {
     "cell_type": "code",
     "collapsed": false,
     "input": [
      "map (Set.member 'o') [s0,s1,s2,s3]\n",
      "map (Set.isSubsetOf s2) [s0,s1,s2,s3]"
     ],
     "language": "python",
     "metadata": {},
     "outputs": [
      {
       "metadata": {},
       "output_type": "display_data",
       "text": [
        "[False,False,True,True]"
       ]
      },
      {
       "metadata": {},
       "output_type": "display_data",
       "text": [
        "[False,False,True,False]"
       ]
      }
     ],
     "prompt_number": 8
    },
    {
     "cell_type": "markdown",
     "metadata": {},
     "source": [
      "The `insert` and `delete` functions can be used to add and delete elements. There is also a `filter` function that can be used to create a set from all members of a set where a given predicate is true."
     ]
    },
    {
     "cell_type": "code",
     "collapsed": false,
     "input": [
      "Set.null $ Set.delete 42 $ Set.insert 42 $ Set.insert 42 s0\n",
      "Set.toAscList $ Set.filter (< 'g') s3"
     ],
     "language": "python",
     "metadata": {},
     "outputs": [
      {
       "metadata": {},
       "output_type": "display_data",
       "text": [
        "True"
       ]
      },
      {
       "metadata": {},
       "output_type": "display_data",
       "text": [
        "\"abcdef\""
       ]
      }
     ],
     "prompt_number": 8
    },
    {
     "cell_type": "markdown",
     "metadata": {},
     "source": [
      "You can use the standard set operations `union`, `intersection`, and `difference`. The `isSubsetOf` function tests whether the first argument is a subset of the second argument and the `member` function tests whether a member is in a set. The `disjoint` function tests whether two sets are disjoint, i.e., they have no common elements."
     ]
    },
    {
     "cell_type": "code",
     "collapsed": false,
     "input": [
      "Set.union s2 s3\n",
      "Set.intersection s2 s3\n",
      "Set.difference s2 s3"
     ],
     "language": "python",
     "metadata": {},
     "outputs": [
      {
       "metadata": {},
       "output_type": "display_data",
       "text": [
        "fromList \" HWabcdefghijklmnopqrstuvwxyz\""
       ]
      },
      {
       "metadata": {},
       "output_type": "display_data",
       "text": [
        "fromList \"delor\""
       ]
      },
      {
       "metadata": {},
       "output_type": "display_data",
       "text": [
        "fromList \" HW\""
       ]
      }
     ],
     "prompt_number": 9
    },
    {
     "cell_type": "markdown",
     "metadata": {},
     "source": [
      "Since the sets have an order, it is possible to split sets at a certain elem. Note that the splitting element is not required to be a member of the set."
     ]
    },
    {
     "cell_type": "code",
     "collapsed": false,
     "input": [
      "sp = Set.split 'm' s3\n",
      "Set.elems $ fst sp\n",
      "Set.elems $ snd sp"
     ],
     "language": "python",
     "metadata": {},
     "outputs": [
      {
       "metadata": {},
       "output_type": "display_data",
       "text": [
        "\"abcdefghijkl\""
       ]
      },
      {
       "metadata": {},
       "output_type": "display_data",
       "text": [
        "\"nopqrstuvwxyz\""
       ]
      }
     ],
     "prompt_number": 11
    },
    {
     "cell_type": "code",
     "collapsed": false,
     "input": [
      "Set.split 32 $ Set.fromList [0,10..60]"
     ],
     "language": "python",
     "metadata": {},
     "outputs": [
      {
       "metadata": {},
       "output_type": "display_data",
       "text": [
        "(fromList [0,10,20,30],fromList [40,50,60])"
       ]
      }
     ],
     "prompt_number": 12
    },
    {
     "cell_type": "markdown",
     "metadata": {},
     "source": [
      "Many other funtions like `map`, `filter`, `take`, `drop`, and various folds are implemented for sets as well."
     ]
    },
    {
     "cell_type": "markdown",
     "metadata": {},
     "source": [
      "Sets are internally represented as balanced ordered binary trees. It is possible to look at the internal representation by using the `showTree` function. Note that there may be leaf nodes without a value."
     ]
    },
    {
     "cell_type": "code",
     "collapsed": false,
     "input": [
      "putStrLn $ Set.showTree s3"
     ],
     "language": "python",
     "metadata": {},
     "outputs": [
      {
       "metadata": {},
       "output_type": "display_data",
       "text": [
        "'h'\n",
        "+--'d'\n",
        "|  +--'b'\n",
        "|  |  +--'a'\n",
        "|  |  +--'c'\n",
        "|  +--'f'\n",
        "|     +--'e'\n",
        "|     +--'g'\n",
        "+--'p'\n",
        "   +--'l'\n",
        "   |  +--'j'\n",
        "   |  |  +--'i'\n",
        "   |  |  +--'k'\n",
        "   |  +--'n'\n",
        "   |     +--'m'\n",
        "   |     +--'o'\n",
        "   +--'t'\n",
        "      +--'r'\n",
        "      |  +--'q'\n",
        "      |  +--'s'\n",
        "      +--'x'\n",
        "         +--'v'\n",
        "         |  +--'u'\n",
        "         |  +--'w'\n",
        "         +--'y'\n",
        "            +--|\n",
        "            +--'z'"
       ]
      }
     ],
     "prompt_number": 7
    }
   ],
   "metadata": {}
  }
 ]
}