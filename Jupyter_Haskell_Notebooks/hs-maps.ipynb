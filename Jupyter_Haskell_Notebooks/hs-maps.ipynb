{
 "metadata": {
  "language": "haskell",
  "name": "",
  "signature": "sha256:019bc687df6cba3932b8026ae22fa027f776ce97677b6a64c019c2119d5bcb1f",
  "title": "Haskell Tutorial: Maps"
 },
 "nbformat": 3,
 "nbformat_minor": 0,
 "worksheets": [
  {
   "cells": [
    {
     "cell_type": "code",
     "collapsed": false,
     "input": [
      ":opt no-lint"
     ],
     "language": "python",
     "metadata": {},
     "outputs": [],
     "prompt_number": 1
    },
    {
     "cell_type": "heading",
     "level": 2,
     "metadata": {},
     "source": [
      "Maps"
     ]
    },
    {
     "cell_type": "markdown",
     "metadata": {},
     "source": [
      "Haskell has support for maps that map a key to a value. Mathematically, you may think of a map as a binary relation mapping keys to values. To use the map functions, you have to import `Data.Map`. There are actually two different kinds of maps in the Haskell library: `Data.Map.Strict` provides finite maps for (sometimes called dictonaries) for situations where all values will be forced to exist. If laziness is required, i.e., you want to store something potentially infinite in a map, you should use `Data.Map.Lazy`. Haskell maps are pretty powerful. This document only provides a very basic overview. For a full description, see the official documentation."
     ]
    },
    {
     "cell_type": "code",
     "collapsed": false,
     "input": [
      "import qualified Data.Map as Map"
     ],
     "language": "python",
     "metadata": {},
     "outputs": [],
     "prompt_number": 2
    },
    {
     "cell_type": "markdown",
     "metadata": {},
     "source": [
      "A common way to create maps is to create them from a list of tuples. But there are also convenient ways to create an empty map or a map has a single member, called a *singleton*."
     ]
    },
    {
     "cell_type": "code",
     "collapsed": false,
     "input": [
      "m0 = Map.empty\n",
      "m1 = Map.singleton \"Eve\" 42 \n",
      "m2 = Map.fromList $ zip [\"hello\", \"world\"] [1..]"
     ],
     "language": "python",
     "metadata": {},
     "outputs": [],
     "prompt_number": 3
    },
    {
     "cell_type": "markdown",
     "metadata": {},
     "source": [
      "The `null` function can be used to test whether a map is empty while the `size` function returns the number of elements of a map."
     ]
    },
    {
     "cell_type": "code",
     "collapsed": false,
     "input": [
      "map Map.null [m0, m1, m2]\n",
      "map Map.size [m0, m1, m2]"
     ],
     "language": "python",
     "metadata": {},
     "outputs": [
      {
       "metadata": {},
       "output_type": "display_data",
       "text": [
        "[True,False,False]"
       ]
      },
      {
       "metadata": {},
       "output_type": "display_data",
       "text": [
        "[0,1,2]"
       ]
      }
     ],
     "prompt_number": 4
    },
    {
     "cell_type": "markdown",
     "metadata": {},
     "source": [
      "Maps can be converted back to lists using the `toList`, `toAscList`, and `toDescList` functions. The `toAscList`, and `toDescList` functions return the map tuples ordered by the keys."
     ]
    },
    {
     "cell_type": "code",
     "collapsed": false,
     "input": [
      "Map.toList m2\n",
      "Map.toAscList m2\n",
      "Map.toDescList m2"
     ],
     "language": "python",
     "metadata": {},
     "outputs": [
      {
       "metadata": {},
       "output_type": "display_data",
       "text": [
        "[(\"hello\",1),(\"world\",2)]"
       ]
      },
      {
       "metadata": {},
       "output_type": "display_data",
       "text": [
        "[(\"hello\",1),(\"world\",2)]"
       ]
      },
      {
       "metadata": {},
       "output_type": "display_data",
       "text": [
        "[(\"world\",2),(\"hello\",1)]"
       ]
      }
     ],
     "prompt_number": 5
    },
    {
     "cell_type": "markdown",
     "metadata": {},
     "source": [
      "The `elems` function returns the list of all values while the `keys` function returns the list of keys."
     ]
    },
    {
     "cell_type": "code",
     "collapsed": false,
     "input": [
      "Map.elems m2\n",
      "Map.keys m2"
     ],
     "language": "python",
     "metadata": {},
     "outputs": [
      {
       "metadata": {},
       "output_type": "display_data",
       "text": [
        "[1,2]"
       ]
      },
      {
       "metadata": {},
       "output_type": "display_data",
       "text": [
        "[\"hello\",\"world\"]"
       ]
      }
     ],
     "prompt_number": 6
    },
    {
     "cell_type": "markdown",
     "metadata": {},
     "source": [
      "There are many ways to lookup values for key. First, you can use the `member` function to test whether a certain key exists in the map. The `!` operator returns the value of a key that exists in a map or it throws an error. There are other functions that avoid throwing an error. A simple solution is `findWithDefault`, which returns the value of a key in a map or a default value."
     ]
    },
    {
     "cell_type": "code",
     "collapsed": false,
     "input": [
      "Map.member \"hello\" m2\n",
      "m2 Map.! \"hello\"\n",
      "Map.findWithDefault 0 \"hello\" m2\n",
      "Map.findWithDefault 0 \"hello\" m1"
     ],
     "language": "python",
     "metadata": {},
     "outputs": [
      {
       "metadata": {},
       "output_type": "display_data",
       "text": [
        "True"
       ]
      },
      {
       "metadata": {},
       "output_type": "display_data",
       "text": [
        "1"
       ]
      },
      {
       "metadata": {},
       "output_type": "display_data",
       "text": [
        "1"
       ]
      },
      {
       "metadata": {},
       "output_type": "display_data",
       "text": [
        "0"
       ]
      }
     ],
     "prompt_number": 7
    },
    {
     "cell_type": "heading",
     "level": 3,
     "metadata": {},
     "source": [
      "TODO"
     ]
    },
    {
     "cell_type": "markdown",
     "metadata": {},
     "source": [
      "- explain insert, delete, update\n",
      "- explain unions, intersection, difference\n",
      "- explain map, mapWithKey, filter, mapKeys"
     ]
    },
    {
     "cell_type": "code",
     "collapsed": false,
     "input": [],
     "language": "python",
     "metadata": {},
     "outputs": [],
     "prompt_number": 8
    }
   ],
   "metadata": {}
  }
 ]
}