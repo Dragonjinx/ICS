{
 "metadata": {
  "author": "Juergen Schoenwaelder",
  "language": "haskell",
  "name": "",
  "signature": "sha256:b07570af5f29cab3e0e141d46c7d85be0a0cc465a2c9589a01324e7bb1c12eb7",
  "title": "Haskell Tutorial: Functions"
 },
 "nbformat": 3,
 "nbformat_minor": 0,
 "worksheets": [
  {
   "cells": [
    {
     "cell_type": "code",
     "collapsed": false,
     "input": [
      ":opt no-lint"
     ],
     "language": "python",
     "metadata": {},
     "outputs": [],
     "prompt_number": 7
    },
    {
     "cell_type": "heading",
     "level": 1,
     "metadata": {},
     "source": [
      "Functions"
     ]
    },
    {
     "cell_type": "markdown",
     "metadata": {},
     "source": [
      "We have already seen how we can define simple functions. To define a function, we usually define the type signature (although this is optional) and afterwards we define the function.\n",
      "\n",
      "Lets define a function to calculate the euklidian distance between two points $(x1,y1)$ and $(x2, y2)$. We represent the points naturally as tuples and we define a helper function to calculate the square of a number."
     ]
    },
    {
     "cell_type": "code",
     "collapsed": false,
     "input": [
      "square :: Double -> Double\n",
      "square x = x * x\n",
      "\n",
      "distance :: (Double, Double) -> (Double, Double) -> Double\n",
      "distance (x1, y1) (x2, y2) = sqrt (square (x2 - x1) + square (y2 - y1))\n",
      "\n",
      "distance (0,0) (10,5)"
     ],
     "language": "python",
     "metadata": {},
     "outputs": [
      {
       "metadata": {},
       "output_type": "display_data",
       "text": [
        "11.180339887498949"
       ]
      }
     ],
     "prompt_number": 12
    },
    {
     "cell_type": "markdown",
     "metadata": {},
     "source": [
      "If we do not want the helper function to be used outside the definition of our `distance` function, we can define the helper function in a `where` clause."
     ]
    },
    {
     "cell_type": "code",
     "collapsed": false,
     "input": [
      "distance :: (Double, Double) -> (Double, Double) -> Double\n",
      "distance (x1, y1) (x2, y2) = sqrt (square (x2 - x1) + square (y2 - y1))\n",
      "       where\n",
      "           square :: Double -> Double\n",
      "           square x = x * x\n",
      "\n",
      "distance (0,0) (10,5)"
     ],
     "language": "python",
     "metadata": {},
     "outputs": [
      {
       "metadata": {},
       "output_type": "display_data",
       "text": [
        "11.180339887498949"
       ]
      }
     ],
     "prompt_number": 17
    },
    {
     "cell_type": "heading",
     "level": 2,
     "metadata": {},
     "source": [
      "Pattern Matching"
     ]
    },
    {
     "cell_type": "markdown",
     "metadata": {},
     "source": [
      "While defining functions, it is often necessary to distinguish difference cases. There are several ways to achieve this in Haskell. A simple but also very powerful mechanism for this is pattern matching: We match the arguments passed to a function against pattern and we apply the first matching function definition. Note that the order of the pattern matters (since we apply the definition of the first matching pattern) and that the set of pattern should catch all possibilities.\n",
      "\n",
      "Lets define a function `vowel`, which returns `True` if an English language character is a vowel and `False` otherwise. Since the set of vowels is small, we can write a function definition for each vowel and one for the case where the character is not a vowel. "
     ]
    },
    {
     "cell_type": "code",
     "collapsed": false,
     "input": [
      "vowel :: Char -> Bool \n",
      "vowel 'a' = True\n",
      "vowel 'e' = True\n",
      "vowel 'i' = True\n",
      "vowel 'o' = True\n",
      "vowel 'u' = True\n",
      "vowel _ = False\n",
      "\n",
      "filter vowel \"Hello World\"\n",
      "filter (not . vowel) \"Hello World\""
     ],
     "language": "python",
     "metadata": {},
     "outputs": [
      {
       "metadata": {},
       "output_type": "display_data",
       "text": [
        "\"eoo\""
       ]
      },
      {
       "metadata": {},
       "output_type": "display_data",
       "text": [
        "\"Hll Wrld\""
       ]
      }
     ],
     "prompt_number": 14
    },
    {
     "cell_type": "markdown",
     "metadata": {},
     "source": [
      "In the above example, we match the character passed to the function `vowel` against constants. The last clause uses the underscore `_`, a pattern used in situations where one wants to match anything but not use the matched value. The `vowel` function can be used as a filter function to extract all vowels of a string (which is a list of characters). By composing the `vowel` function with the `not` function, we can also easily extract all non-vowels of a string. We will come back to function composition later."
     ]
    },
    {
     "cell_type": "markdown",
     "metadata": {},
     "source": [
      "Here is another pattern matching example demonstrating how patterns can be used to match lists. Lets assume we want to define a function `elems` to obtain a string that says \"no elements\" if a list is empty, \"one element\" if a list has exactly one element, and \"multiple elements\" if the list has more than one element. We can achieve this using pattern matching by first testing the special cases and having the catch all case last."
     ]
    },
    {
     "cell_type": "code",
     "collapsed": false,
     "input": [
      "elems :: [a] -> [Char]\n",
      "elems []     = \"no elements\"\n",
      "elems (_:[]) = \"one element\"\n",
      "elems _      = \"multiple elements\"\n",
      "\n",
      "\"The list has \" ++ elems []\n",
      "\"The list has \" ++ elems [[]]\n",
      "\"The list has \" ++ elems [[],[]]"
     ],
     "language": "python",
     "metadata": {},
     "outputs": [
      {
       "metadata": {},
       "output_type": "display_data",
       "text": [
        "\"The list has no elements\""
       ]
      },
      {
       "metadata": {},
       "output_type": "display_data",
       "text": [
        "\"The list has one element\""
       ]
      },
      {
       "metadata": {},
       "output_type": "display_data",
       "text": [
        "\"The list has multiple elements\""
       ]
      }
     ],
     "prompt_number": 25
    },
    {
     "cell_type": "markdown",
     "metadata": {},
     "source": [
      "The first pattern tests whether the list is empty. The second pattern tests whether the list contains a head element followed by an empty list. The third patter matches all arguments and it serves as a catch-all pattern. Note that this\n",
      "definition works with infinite lists. An implementation that counts the list elements would be inferior."
     ]
    },
    {
     "cell_type": "markdown",
     "metadata": {},
     "source": [
      "Pattern matching can also be used to extract specific elements of a tuple. Lets define fst', snd', and trd' for 3-tuples. The following definitions are polymorphic, they work regardless which data types are present in a 3-tuple."
     ]
    },
    {
     "cell_type": "code",
     "collapsed": false,
     "input": [
      "fst' :: (a, b, c) -> a\n",
      "fst' (x, _, _) = x\n",
      "\n",
      "snd' :: (a, b, c) -> b\n",
      "snd' (_, y, _) = y\n",
      "\n",
      "trd' :: (a, b, c) -> c\n",
      "trd' (_, _, z) = z\n",
      "\n",
      "fst' (\"lost\", 42, \"number\")\n",
      "trd' (True, 1, \"yes\")"
     ],
     "language": "python",
     "metadata": {},
     "outputs": [
      {
       "metadata": {},
       "output_type": "display_data",
       "text": [
        "\"lost\""
       ]
      },
      {
       "metadata": {},
       "output_type": "display_data",
       "text": [
        "\"yes\""
       ]
      }
     ],
     "prompt_number": 44
    },
    {
     "cell_type": "heading",
     "level": 2,
     "metadata": {},
     "source": [
      "Recursion"
     ]
    },
    {
     "cell_type": "markdown",
     "metadata": {},
     "source": [
      "Compared to imperative programming languages such as C, C++, or Java, a pure functional language like Haskell does not have constructs to program loops. Instead, we use *recursion* to implement loops. Recursion essentially means that the definition of a function may refer to itself. The idea is that a given problem is transferred into a slightly simpler problem until the problem is so simple that it can be directly solved. Hence, a recursive function definition typically consists of a simple case where the result can be directly provided plus one or more complex cases that can be transformed into simpler cases. This essentially means that we need a mechanism to distinguish the simple case from the more complex one.\n",
      "\n",
      "Number sequences are classic examples for recursive functions and the probably most widely used recursively defined number sequence in computer science textbooks is the fibonacci series. Fibonacci numbers are defined as follows (for $n \\geq 0$):\n",
      "$$ fib(n) = \\begin{cases}0 & n = 0\\\\ 1 & n = 1 \\\\ fib(n-1) + fib(n-2) & \\text{otherwise}\\end{cases}$$"
     ]
    },
    {
     "cell_type": "code",
     "collapsed": false,
     "input": [
      "fib :: Integer -> Integer\n",
      "fib 0 = 0\n",
      "fib 1 = 1\n",
      "fib n = fib (n-1) + fib (n-2)\n",
      "\n",
      "map fib [0..10]"
     ],
     "language": "python",
     "metadata": {},
     "outputs": [
      {
       "metadata": {},
       "output_type": "display_data",
       "text": [
        "[0,1,1,2,3,5,8,13,21,34,55]"
       ]
      }
     ],
     "prompt_number": 5
    },
    {
     "cell_type": "markdown",
     "metadata": {},
     "source": [
      "Recursion is particularly interesting for inductively defined data structures such as lists. The standard `map` function applies a function to all elements of a list. Lets define our own `map'` function which does the same. The simple case is an empty list where we return an empty list. The general case is a list where we apply the function to the first element and construct a new list out of the new value returned by the function and the application of the function to the tail of the list."
     ]
    },
    {
     "cell_type": "code",
     "collapsed": false,
     "input": [
      "map' :: (a -> b) -> [a] -> [b]\n",
      "map' f [] = []\n",
      "map' f (x:xs) = (f x) : map' f xs\n",
      "\n",
      "map' fib []\n",
      "map' fib [0..10]"
     ],
     "language": "python",
     "metadata": {},
     "outputs": [
      {
       "metadata": {},
       "output_type": "display_data",
       "text": [
        "[]"
       ]
      },
      {
       "metadata": {},
       "output_type": "display_data",
       "text": [
        "[1,1,2,3,5,8,13,21,34,55,89]"
       ]
      }
     ],
     "prompt_number": 10
    },
    {
     "cell_type": "heading",
     "level": 2,
     "metadata": {},
     "source": [
      "Guards"
     ]
    },
    {
     "cell_type": "markdown",
     "metadata": {},
     "source": [
      "While pattern are already a convenient mechanism, they have their limitations. If you want to test whether a more general condition is true or false, you can use guards. Guards are essentially boolean expressions that are evaluated in order of their appearance. The first expression that evaluates to `True` determines the function definition that is used. We can rewrite the function producing fibonacci numbers using guards as follows:"
     ]
    },
    {
     "cell_type": "code",
     "collapsed": false,
     "input": [
      "fib' :: Integer -> Integer\n",
      "fib' n | n == 0    = 1\n",
      "fib' n | n == 1    = 1\n",
      "fib' n | n > 1     = fib' (n-1) + fib' (n-2)\n",
      "fib' n | otherwise = error \"fib' not defined for negative numbers\"\n",
      "\n",
      "map fib' [0..10]\n",
      "fib' (4-5)"
     ],
     "language": "python",
     "metadata": {},
     "outputs": [
      {
       "metadata": {},
       "output_type": "display_data",
       "text": [
        "[1,1,2,3,5,8,13,21,34,55,89]"
       ]
      },
      {
       "html": [
        "<span class='err-msg'>fib' not defined for negative numbers</span>"
       ],
       "metadata": {},
       "output_type": "display_data",
       "text": [
        "fib' not defined for negative numbers"
       ]
      }
     ],
     "prompt_number": 19
    },
    {
     "cell_type": "markdown",
     "metadata": {},
     "source": [
      "We can now handle the situation where the argument is negative. Instead of going into an endless loop, we call the `error` function. Note that `error` should only be used in situations where an error indicates a programming error. The `error` function should not be used to signal runtime errors. In fact, a good Haskell programmer prefers pure functions that have no side effects. Calling `error` is a pretty strong side effect since the call will abort the program execution. We will later learn about better mechanisms to handle runtime errors."
     ]
    },
    {
     "cell_type": "markdown",
     "metadata": {},
     "source": [
      "Since pattern are often more concise and thus more readable than guards, it is sometimes a good idea to mix guards and pattern. Here is another attempt do define a function producing fibonacci numbers:"
     ]
    },
    {
     "cell_type": "code",
     "collapsed": false,
     "input": [
      "fib'' :: Integer -> Integer\n",
      "fib'' n | n < 0 = error \"fib'' not defined for negative numbers\"\n",
      "fib'' 0 = 1\n",
      "fib'' 1 = 1\n",
      "fib'' n = fib (n-1) + fib (n-2)\n",
      "\n",
      "map fib'' [0..10]\n",
      "fib'' (4-5)"
     ],
     "language": "python",
     "metadata": {},
     "outputs": [
      {
       "metadata": {},
       "output_type": "display_data",
       "text": [
        "[1,1,2,3,5,8,13,21,34,55,89]"
       ]
      },
      {
       "html": [
        "<span class='err-msg'>fib'' not defined for negative numbers</span>"
       ],
       "metadata": {},
       "output_type": "display_data",
       "text": [
        "fib'' not defined for negative numbers"
       ]
      }
     ],
     "prompt_number": 26
    },
    {
     "cell_type": "heading",
     "level": 2,
     "metadata": {},
     "source": [
      "Where Bindings"
     ]
    },
    {
     "cell_type": "code",
     "collapsed": false,
     "input": [],
     "language": "python",
     "metadata": {},
     "outputs": []
    },
    {
     "cell_type": "heading",
     "level": 2,
     "metadata": {},
     "source": [
      "Let Bindings"
     ]
    },
    {
     "cell_type": "heading",
     "level": 2,
     "metadata": {},
     "source": [
      "Case Expressions"
     ]
    },
    {
     "cell_type": "heading",
     "level": 2,
     "metadata": {},
     "source": [
      "Lambda Functions"
     ]
    },
    {
     "cell_type": "markdown",
     "metadata": {},
     "source": [
      "Lambda functions, also called anonymous functions, are helper functions without a name. Haskell's foundation is a universal model of computation called [Lambda Calculus](https://en.wikipedia.org/wiki/Lambda_calculus). A backslash character is commonly used to define lambda functions because of its visual resemblance with the Greek letter lambda ($\\lambda$)."
     ]
    },
    {
     "cell_type": "code",
     "collapsed": false,
     "input": [
      "(\\ x -> x*x) 2"
     ],
     "language": "python",
     "metadata": {},
     "outputs": [
      {
       "metadata": {},
       "output_type": "display_data",
       "text": [
        "4"
       ]
      }
     ],
     "prompt_number": 2
    },
    {
     "cell_type": "markdown",
     "metadata": {},
     "source": [
      "Lambda functions behave like regular functions with names. However, a lambda function can only have a single clause in its definition. Hence, we must be sure that our pattern covers all cases, otherwise runtime errors will occur. For example, the following definition of `tail'` will be unsafe for an empty list."
     ]
    },
    {
     "cell_type": "code",
     "collapsed": false,
     "input": [
      "tail' :: [t] -> [t]\n",
      "tail' = \\(_:xs) -> xs\n",
      "\n",
      "tail' [1..10]"
     ],
     "language": "python",
     "metadata": {},
     "outputs": [
      {
       "metadata": {},
       "output_type": "display_data",
       "text": [
        "[2,3,4,5,6,7,8,9,10]"
       ]
      }
     ],
     "prompt_number": 2
    },
    {
     "cell_type": "markdown",
     "metadata": {},
     "source": [
      "Lambda functions are useful in situation where a function is needed that can be easily defined inline."
     ]
    },
    {
     "cell_type": "heading",
     "level": 2,
     "metadata": {},
     "source": [
      "Partial Functions and Currying"
     ]
    },
    {
     "cell_type": "markdown",
     "metadata": {},
     "source": [
      "In Haskell, all functions take only a single argument. This may sound like a contradiction since we are used to think of functions will multiple arguments. To understand what may seem like a contraction, we need to look at type signatures again."
     ]
    },
    {
     "cell_type": "code",
     "collapsed": false,
     "input": [
      "take' :: Int -> [a] -> [a]\n",
      "take' 0 xs     = []\n",
      "take' n (x:xs) = x : take (n-1) xs"
     ],
     "language": "python",
     "metadata": {},
     "outputs": [],
     "prompt_number": 4
    },
    {
     "cell_type": "markdown",
     "metadata": {},
     "source": [
      "The function `take'` has in its signature only one parameter (i.e., an `Int`). After the Int argument is applied, a function is returned that takes a list as the argument and which returns a list. We can make use of this when we need a function `take3` that takes the first three elements of a list."
     ]
    },
    {
     "cell_type": "code",
     "collapsed": false,
     "input": [
      "take3 :: [a] -> [a]\n",
      "take3 = take' 3\n",
      "\n",
      "take3 [1..10]"
     ],
     "language": "python",
     "metadata": {},
     "outputs": [
      {
       "metadata": {},
       "output_type": "display_data",
       "text": [
        "[1,2,3]"
       ]
      }
     ],
     "prompt_number": 5
    },
    {
     "cell_type": "markdown",
     "metadata": {},
     "source": [
      "From a mathematical point of view, [currying](https://en.wikipedia.org/wiki/Currying) a function expression means successively splitting away arguments from the right to the left. In the general case of currying an m-ary function expression: $f (x_1, x_2,\\ldots,x_m) = f^{m\u22121}(x_1)(x_2)\\ldots(x_m)$."
     ]
    }
   ],
   "metadata": {}
  }
 ]
}